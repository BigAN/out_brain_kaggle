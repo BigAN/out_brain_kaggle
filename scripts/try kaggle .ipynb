{
 "cells": [
  {
   "cell_type": "code",
   "execution_count": 5,
   "metadata": {},
   "outputs": [],
   "source": [
    "import pandas as pd\n",
    "import numpy as np \n",
    "\n",
    "reg = 10 # trying anokas idea of regularization\n",
    "eval = False\n",
    "\n",
    "train = pd.read_csv(\"../data/clicks_train.csv\")\n",
    "\n",
    "if eval:\n",
    "\tids = train.display_id.unique()\n",
    "\tids = np.random.choice(ids, size=len(ids)//10, replace=False)\n",
    "\n",
    "\tvalid = train[train.display_id.isin(ids)]\n",
    "\ttrain = train[~train.display_id.isin(ids)]\n",
    "\t\n",
    "\tprint (valid.shape, train.shape)\n",
    "\n",
    "cnt = train[train.clicked==1].ad_id.value_counts()\n",
    "cntall = train.ad_id.value_counts()"
   ]
  },
  {
   "cell_type": "code",
   "execution_count": null,
   "metadata": {},
   "outputs": [],
   "source": [
    "del train\n",
    "\n",
    "def get_prob(k):\n",
    "    if k not in cnt:\n",
    "        return 0\n",
    "    return cnt[k]/(float(cntall[k]) + reg)\n",
    "\n",
    "def srt(x):\n",
    "    ad_ids = map(int, x.split())\n",
    "    ad_ids = sorted(ad_ids, key=get_prob, reverse=True)\n",
    "    return \" \".join(map(str,ad_ids))\n",
    "   \n",
    "if eval:\n",
    "\tfrom ml_metrics import mapk\n",
    "\t\n",
    "\ty = valid[valid.clicked==1].ad_id.values\n",
    "\ty = [[_] for _ in y]\n",
    "\tp = valid.groupby('display_id').ad_id.apply(list)\n",
    "\tp = [sorted(x, key=get_prob, reverse=True) for x in p]\n",
    "\t\n",
    "# \tprint (mapk(y, p, k=12))\n",
    "else:\n",
    "\tsubm = pd.read_csv(\"../data/sample_submission.csv\") \n",
    "\tsubm['ad_id'] = subm.ad_id.apply(lambda x: srt(x))\n",
    "\tsubm.to_csv(\"subm_reg_1.csv\", index=False)"
   ]
  },
  {
   "cell_type": "code",
   "execution_count": 3,
   "metadata": {},
   "outputs": [
    {
     "ename": "NameError",
     "evalue": "name 'subm' is not defined",
     "output_type": "error",
     "traceback": [
      "\u001b[0;31m---------------------------------------------------------------------------\u001b[0m",
      "\u001b[0;31mNameError\u001b[0m                                 Traceback (most recent call last)",
      "\u001b[0;32m<ipython-input-3-026e5b2a0efd>\u001b[0m in \u001b[0;36m<module>\u001b[0;34m()\u001b[0m\n\u001b[0;32m----> 1\u001b[0;31m \u001b[0msubm\u001b[0m\u001b[0;34m.\u001b[0m\u001b[0mhead\u001b[0m\u001b[0;34m\u001b[0m\u001b[0m\n\u001b[0m",
      "\u001b[0;31mNameError\u001b[0m: name 'subm' is not defined"
     ]
    }
   ],
   "source": [
    ""
   ]
  },
  {
   "cell_type": "code",
   "execution_count": null,
   "metadata": {},
   "outputs": [],
   "source": [
    ""
   ]
  }
 ],
 "metadata": {
  "kernelspec": {
   "display_name": "Python 2",
   "language": "python",
   "name": "python2"
  },
  "language_info": {
   "codemirror_mode": {
    "name": "ipython",
    "version": 2.0
   },
   "file_extension": ".py",
   "mimetype": "text/x-python",
   "name": "python",
   "nbconvert_exporter": "python",
   "pygments_lexer": "ipython2",
   "version": "2.7.11"
  }
 },
 "nbformat": 4,
 "nbformat_minor": 0
}