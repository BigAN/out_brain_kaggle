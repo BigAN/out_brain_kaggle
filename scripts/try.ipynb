{
 "cells": [
  {
   "cell_type": "code",
   "execution_count": 2,
   "metadata": {},
   "outputs": [
    {
     "name": "stdout",
     "output_type": "stream",
     "text": [
      "['', '/usr/local/lib/python2.7/site-packages/setuptools-20.2.2-py2.7.egg', '/usr/local/lib/python2.7/site-packages/distribute-0.6.14-py2.7.egg', '/usr/local/lib/python2.7/site-packages/pip-8.1.1-py2.7.egg', '/Users/dongjian/work/kaggle/outbrain/scripts', '/Users/dongjian/PycharmProjects/UserDetected', '/Users/dongjian/work/meituan', '/Users/dongjian/work/kaggle', '/Users/dongjian/work', '/Users/dongjian/work/packages/spark-1.5/python', '/usr/local/Cellar/python/2.7.11/Frameworks/Python.framework/Versions/2.7/lib/python27.zip', '/usr/local/Cellar/python/2.7.11/Frameworks/Python.framework/Versions/2.7/lib/python2.7', '/usr/local/Cellar/python/2.7.11/Frameworks/Python.framework/Versions/2.7/lib/python2.7/plat-darwin', '/usr/local/Cellar/python/2.7.11/Frameworks/Python.framework/Versions/2.7/lib/python2.7/plat-mac', '/usr/local/Cellar/python/2.7.11/Frameworks/Python.framework/Versions/2.7/lib/python2.7/plat-mac/lib-scriptpackages', '/usr/local/Cellar/python/2.7.11/Frameworks/Python.framework/Versions/2.7/lib/python2.7/lib-tk', '/usr/local/Cellar/python/2.7.11/Frameworks/Python.framework/Versions/2.7/lib/python2.7/lib-old', '/usr/local/Cellar/python/2.7.11/Frameworks/Python.framework/Versions/2.7/lib/python2.7/lib-dynload', '/Users/dongjian/Library/Python/2.7/lib/python/site-packages', '/usr/local/lib/python2.7/site-packages', '/Library/Python/2.7/site-packages/distribute-0.6.14-py2.7.egg', '/Library/Python/2.7/site-packages', '/usr/local/lib/python2.7/site-packages/IPython/extensions', '/Users/dongjian/.ipython']\n"
     ]
    }
   ],
   "source": [
    "import sys\n",
    "print sys.path\n",
    "import pandas as pd\n",
    "import numpy as np\n",
    "import outbrain.const as cst\n",
    "import os\n",
    "\n",
    "import os\n",
    "\n",
    "reg = 10  # trying anokas idea of regularization"
   ]
  },
  {
   "cell_type": "code",
   "execution_count": 3,
   "metadata": {},
   "outputs": [
    {
     "name": "stderr",
     "output_type": "stream",
     "text": [
      "/usr/local/lib/python2.7/site-packages/IPython/core/interactiveshell.py:2723: DtypeWarning: Columns (4) have mixed types. Specify dtype option on import or set low_memory=False.\n",
      "  interactivity=interactivity, compiler=compiler, result=result)\n"
     ]
    }
   ],
   "source": [
    "train = pd.read_csv(os.path.join(cst.data_root, \"clicks_train.csv\"))  # display_id,ad_id,clicked\n",
    "test = pd.read_csv(os.path.join(cst.data_root, \"clicks_test.csv\"))  # display_id,ad_id,clicked\n",
    "\n",
    "doc_cate = pd.read_csv(\n",
    "        os.path.join(cst.data_root, \"documents_categories.csv\"))  # document_id,category_id,confidence_level\n",
    "doc_entity = pd.read_csv(\n",
    "        os.path.join(cst.data_root, \"documents_entities.csv\"))  # document_id,entity_id,confidence_level\n",
    "doc_topics = pd.read_csv(os.path.join(cst.data_root, \"documents_topics.csv\"))  # document_id,topic_id,confidence_level\n",
    "events = pd.read_csv(os.path.join(cst.data_root, \"events.csv\"))  # document_id,topic_id,confidence_level\n",
    "promoted_content = pd.read_csv(\n",
    "        os.path.join(cst.data_root, \"promoted_content.csv\"))  # ad_id,document_id,campaign_id,advertiser_id\n",
    "\n",
    "train.head()\n",
    "\n",
    "doc_cate.rename(columns = {'confidence_level':\"doc_cate_conf_level\"},inplace=True)\n",
    "doc_entity.rename(columns = {'confidence_level':\"doc_entity_conf_level\"},inplace=True)\n",
    "doc_topics.rename(columns = {'confidence_level':\"doc_topics_conf_level\"},inplace=True)"
   ]
  },
  {
   "cell_type": "code",
   "execution_count": 4,
   "metadata": {},
   "outputs": [],
   "source": [
    "#cal_click_rate\n",
    "cnt = train[train.clicked == 1].ad_id.value_counts()\n",
    "cntall = train.ad_id.value_counts()\n",
    "\n",
    "\n",
    "def get_ad_click_rate(ad_id):\n",
    "    \n",
    "    return cnt.get(ad_id,0) / (cntall.get(ad_id,0) + reg)\n",
    "\n",
    "promoted_content['ad_click_rate'] = promoted_content.ad_id.apply(lambda x:get_ad_click_rate(x))"
   ]
  },
  {
   "cell_type": "code",
   "execution_count": 5,
   "metadata": {},
   "outputs": [],
   "source": [
    "#join doc info\n",
    "\n",
    "def mult_merge(l, key):\n",
    "    x1 = l[0]\n",
    "    for x in l[1:]:\n",
    "        x1 = x1.merge(x, on=key,how='outer')\n",
    "    return x1\n",
    "doc_info = mult_merge([doc_cate,doc_entity,doc_topics],\"document_id\")"
   ]
  },
  {
   "cell_type": "code",
   "execution_count": null,
   "metadata": {},
   "outputs": [
    {
     "data": {
      "text/html": [
       "<div>\n",
       "<table border=\"1\" class=\"dataframe\">\n",
       "  <thead>\n",
       "    <tr style=\"text-align: right;\">\n",
       "      <th></th>\n",
       "      <th>ad_id</th>\n",
       "      <th>document_id</th>\n",
       "      <th>campaign_id</th>\n",
       "      <th>advertiser_id</th>\n",
       "      <th>ad_click_rate</th>\n",
       "      <th>category_id</th>\n",
       "      <th>doc_cate_conf_level</th>\n",
       "      <th>entity_id</th>\n",
       "      <th>doc_entity_conf_level</th>\n",
       "      <th>topic_id</th>\n",
       "      <th>doc_topics_conf_level</th>\n",
       "    </tr>\n",
       "  </thead>\n",
       "  <tbody>\n",
       "    <tr>\n",
       "      <th>0</th>\n",
       "      <td>1</td>\n",
       "      <td>6614</td>\n",
       "      <td>1</td>\n",
       "      <td>7</td>\n",
       "      <td>0</td>\n",
       "      <td>1209</td>\n",
       "      <td>0.925264</td>\n",
       "      <td>NaN</td>\n",
       "      <td>NaN</td>\n",
       "      <td>NaN</td>\n",
       "      <td>NaN</td>\n",
       "    </tr>\n",
       "    <tr>\n",
       "      <th>1</th>\n",
       "      <td>1</td>\n",
       "      <td>6614</td>\n",
       "      <td>1</td>\n",
       "      <td>7</td>\n",
       "      <td>0</td>\n",
       "      <td>1708</td>\n",
       "      <td>0.070466</td>\n",
       "      <td>NaN</td>\n",
       "      <td>NaN</td>\n",
       "      <td>NaN</td>\n",
       "      <td>NaN</td>\n",
       "    </tr>\n",
       "    <tr>\n",
       "      <th>2</th>\n",
       "      <td>2</td>\n",
       "      <td>471467</td>\n",
       "      <td>2</td>\n",
       "      <td>7</td>\n",
       "      <td>0</td>\n",
       "      <td>1505</td>\n",
       "      <td>0.920000</td>\n",
       "      <td>NaN</td>\n",
       "      <td>NaN</td>\n",
       "      <td>89</td>\n",
       "      <td>0.122998</td>\n",
       "    </tr>\n",
       "    <tr>\n",
       "      <th>3</th>\n",
       "      <td>2</td>\n",
       "      <td>471467</td>\n",
       "      <td>2</td>\n",
       "      <td>7</td>\n",
       "      <td>0</td>\n",
       "      <td>1505</td>\n",
       "      <td>0.920000</td>\n",
       "      <td>NaN</td>\n",
       "      <td>NaN</td>\n",
       "      <td>26</td>\n",
       "      <td>0.081036</td>\n",
       "    </tr>\n",
       "    <tr>\n",
       "      <th>4</th>\n",
       "      <td>2</td>\n",
       "      <td>471467</td>\n",
       "      <td>2</td>\n",
       "      <td>7</td>\n",
       "      <td>0</td>\n",
       "      <td>1505</td>\n",
       "      <td>0.920000</td>\n",
       "      <td>NaN</td>\n",
       "      <td>NaN</td>\n",
       "      <td>143</td>\n",
       "      <td>0.066163</td>\n",
       "    </tr>\n",
       "  </tbody>\n",
       "</table>\n",
       "</div>"
      ]
     },
     "output_type": "execute_result",
     "metadata": {}
    }
   ],
   "source": [
    "#join ad\n",
    "ad_doc_info = promoted_content.merge(doc_info,on = \"document_id\")\n",
    "ad_doc_info.head()"
   ]
  },
  {
   "cell_type": "code",
   "execution_count": null,
   "metadata": {},
   "outputs": [],
   "source": [
    "#test.join\n",
    "rs = test.merge(ad_doc_info,on = \"ad_id\").merge(events,on=\"display_id\")\n",
    "rs.to_csv(\"/Users/dongjian/data/outbrain_featrues\")"
   ]
  }
 ],
 "metadata": {
  "kernelspec": {
   "display_name": "Python 2",
   "language": "python",
   "name": "python2"
  },
  "language_info": {
   "codemirror_mode": {
    "name": "ipython",
    "version": 2.0
   },
   "file_extension": ".py",
   "mimetype": "text/x-python",
   "name": "python",
   "nbconvert_exporter": "python",
   "pygments_lexer": "ipython2",
   "version": "2.7.11"
  }
 },
 "nbformat": 4,
 "nbformat_minor": 0
}